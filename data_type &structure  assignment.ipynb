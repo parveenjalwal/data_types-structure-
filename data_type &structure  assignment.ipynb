{
  "nbformat": 4,
  "nbformat_minor": 0,
  "metadata": {
    "colab": {
      "provenance": []
    },
    "kernelspec": {
      "name": "python3",
      "display_name": "Python 3"
    },
    "language_info": {
      "name": "python"
    }
  },
  "cells": [
    {
      "cell_type": "markdown",
      "source": [
        " # data type and structure"
      ],
      "metadata": {
        "id": "WUP4Pj1mox3z"
      }
    },
    {
      "cell_type": "markdown",
      "source": [
        "## throictical section"
      ],
      "metadata": {
        "id": "bB6vhhxCooZd"
      }
    },
    {
      "cell_type": "markdown",
      "source": [
        "1. What are data structures, and why are they important ?\n",
        "  - Data structure is a process of storing data in an orginzing way , SO it can retrived and manuplated for furthuer use . it is very essential beacause if it can not be accessed then i will  be useless eaither any insights cannot be found.\n",
        "  - importents\n",
        "  - 1. to find out insights from data\n",
        "  - 2. in order to bulid projects thorugh data\n",
        "  - 3. to perform some modification operation over the data .\n",
        "  - some type of data = list , string , arrays , tuples ,set , dictionery\n",
        "\n",
        "\n",
        "2.    Explain the difference between mutable and immutable data types with examples ?\n",
        "   - mutiable = a data  where like - adding new values , removig any values , and updating any stored elements such operation can be performed  after declration , therefor these data called mutbale data types , like - list , dictionery , set etc .\n",
        "\n",
        "   immutable == A data where stored elements cannot be replaced , nither replace nor addition , remove  works is called  imutable .  these data types has stable has values . like = tuple  .\n",
        "\n",
        "\n",
        "3.  What are the main differences between lists and tuples in Python ?\n",
        "   - list = lists are mutable mean after string any sort of data manuplaction can be performed  . like = remove , add , replace , slices , pop etc\n",
        "\n",
        "   - tuples = tuples are imutable , mean any sort of manuplation can not be performed . in tuples if any value get stored once so that value can not be changed or removed , it will be parmenent .\n",
        "\n",
        "\n",
        "4.  Describe how dictionaries store data ?\n",
        "    - IN dictionery data is usully stored in key value pairs as well as in ordred format . here any kind duplicate data is not considred . howere earlier dictionery could not be accessed but after 3.7 update , dictionery and their values can be accessed by indexs . therefor it is an mutable dat type .\n",
        "    - however dictionery values can be accessed by indexes but here we cannot write indexes in intger instead keys wich is used to stere values are also comes in handy to access their respective values . in addition all operations also performed using keys .\n",
        "\n",
        "\n",
        "5.  Why might you use a set instead of a list in Python ?\n",
        "   - usecase = first when we do not want to keep reapting our stored data values over and over , to be clear when we dont want duplicate values in our data that time set is perffered rahter then list , beaucse in list duplciate values will be eappered as much as we discribe .Second in set data is stored in unordered format but in list in ordered format . therfor in some situations to keep our data in unordered fomrat typically set is used then list . thired  set operators like - union , difference , etc also a key factores for set  set then list .\n",
        "\n",
        "\n",
        "6. What is a string in Python, and how is it different from a list ?\n",
        " - list = list is an hetroginous data structure, or i would say a collection of\n",
        "   oreded elements , where any kind of data type can be stored at multiple times  together . list is mutable thereofor any sort of manuplation can be performed in list elements .\n",
        "\n",
        "   - string = On the other hand string is a sequnce of chrector and unit of multiple latter , it is for  an individual words ,mean string  is not hetrogenios . beacuse in  string we cannot store all types of data types together . String values can not be changed hwoere we have a function called replace by using it old values can be replaced by new words . in strings elements are written either inside double coat or single coat\n",
        "\n",
        "\n",
        "7. How do tuples ensure data integrity in Python ?\n",
        "  - tuples = tuples are imutable therfor any sort of changes in data like - remove , add , replace can not be perofmed , and it insure that data which is stored inside tules remain same , it must prvent those errors come in data while changes and data would be consistent .\n",
        "  - tuples has a stable hash  values which unables it to be used in another data typr like , sets and dictionery mean tules can be used indside them in order to store data ( and immtablity insure the consistency of data ) therfor data can not be altred by any another operations .\n",
        "\n",
        "\n",
        "8. What is a hash table, and how does it relate to dictionaries in Python ?\n",
        "   - A hash table is a data structure that stores key-value pairs and allows for efficient data retrieval using a key. It works by using a hash function to compute an index in an array (or bucket) where the value associated with the key is stored.\n",
        "   - 1. The hash function is applied to the key to compute a hash value.\n",
        "   - 2. This hash value determines the index in the underlying array where the value is stored.\n",
        "   - 3. If multiple keys hash to the same index (a collision), Python handles it using open addressing.\n",
        "\n",
        "\n",
        "9. Can lists contain different data types in Python ?\n",
        "   - yes obsuletly list is hetroginous , mean diffrent types of data types can be stored inside list and in multiple times . like - string, bool , int, float , complex . therefor above statement is totally ture regarding list .\n",
        "\n",
        "\n",
        "10.  Explain why strings are immutable in Python ?\n",
        "    - strings = first strings can not store diffrent type of data type like - list , tuples . it stores only values in textual format which is inside either double or single coat . As we know strings latter can be accessed by indexs . but when it comes to change we cannot cahnge any perticuler latter by accesing index, if we do it thorws an error beacuse string does not support item assignment . utlimatly strings are immutable . reson strings values are stored in numric form in our system memory therofor their internal function is not possible to alter therefor , data inside stings can not be altred .\n",
        "\n",
        "\n",
        "11. What advantages do dictionaries offer over lists for certain tasks ?\n",
        "   - dictionaries = as we know dictionery stores values in key value pairs , so if we have an situation where in  data have multiple information inside itself , and we have multiple data . in such situations these data can be stored in keys and their respective information in values format  , ultimatly we will have data and its inforamtion in key:value form but this is not possible with list .\n",
        "   - second = in dictionery values are accessed by keys but in list by indexes that is more appropriate and easy to understend .\n",
        "   - third  = if we store any keys again and change some values inside the new key so duplicate values will not print intead the key value will be updated with this new values . ultimalty it does not return duplicate values but list do . list return duplciate values .\n",
        "\n",
        "\n",
        "12.   Describe a scenario where using a tuple would be preferable over a list ?\n",
        "    - enstance = suppose a govt have their people adhar card numbers in data , which is used to check people information wheathe they are poor - rich , thier cast , there work etc. here if values are stored in tuples so beacuse tuple are immutable therefor inforamtion may not get change while any opration (like any external change /or by any function ) . but if these information is stored in list so values can be changed which can cause major trouble . such inforaton is not supposed to be changed . therfor such values we dont want to be cahnged is mostly stored in tuples rahter then list .\n",
        "\n",
        "\n",
        "13. How do sets handle duplicate values in Python ?\n",
        "    - sets = sets is an unordered collection of unique values .mean set never return duplciate values , in details if we write any element two or more then two times afterwards the duplciate item will be printed only one time  the rest duplicate itmes will be ignored by set itself .\n",
        "\n",
        "\n",
        "14. How does the “in” keyword work differently for lists and dictionaries ?\n",
        "   - [in] is basically a membership operator which is typcally used to check weather the  values are prsent or not in our data ( it return in ture or false)\n",
        "   - 1. list = by using [in] in last we can figure out values in list wheather it is avilabe or not , it will be working effectivly their  over those elements regardless their data type .\n",
        "   - 2. dictionery = but when it comes to dictionery it works deffrently , beacuse data is stored in key:value pairs in dictioneries . therefor by usng in operator  we can access their keys only not their respective values . if we try to access value it must return an error . but not while checking keys ,in fact here return in either true or false\n",
        "\n",
        "\n",
        "15. Can you modify the elements of a tuple? Explain why or why not ?\n",
        "   - no we can not modify elements in tuple beause tuples does not support item assigment . to be clear tuples are immutable mean any sort of replacment , addition  or removeing any value is not possible due to its behviour  . IF we do try to change any tuples elements to modify we will get an eror .\n",
        "\n",
        "\n",
        "16. What is a nested dictionary, and give an example of its use case ?\n",
        "  - nested dictionery means a dictionery inside dictionery . it is used to deal / handle more complex and big data , and make easier to read and find insights from that data  . ex. suppose we have three phones (redmi 7, 8 ,9 )\n",
        "  we want to store each and every phone specification like - ram, sotrage , camera , battry , processor || it such cercumstances nasted is used extensivly to store such complex inforamtion . ex. phones = {\"phone1\":{\"camera\":\"50mp\",\"ram\":8,\"storage\":128,\"processor\":\"sanpdrogon 7gen 3\"}, \"phone2\":{\"camera\":\"48mp\",\"ram\":6,\"storage\":256,\"processor\":\"sanpdrogon 7gen 2\"}}\n",
        "\n",
        "\n",
        "17.  Describe the time complexity of accessing elements in a dictionary ?\n",
        "     -  The time complexity of accessing elements in a dictionary is O(1) on average and O(n) in the worst case due to hash collisions. beausee in dictionery values are accessed by keys not by indexs . howerver python dictioneries are well optimized to handle hash collusion .\n",
        "\n",
        "\n",
        "18. In what situations are lists preferred over dictionaries ?\n",
        "    - list - ususlly list are preffered when we want to store duplciate values inside our elements ,because dictionery do not allow to enter duplciate keys , by doing so we get only one last key as an itme therefor list is preffred . secondly when we have elements in single case beacuse these values can not be stored inside dictionery . ex . we have any class students marks , but we dont have their information lke - names etc , ultimalty we are to get the makres stored only in such situation list is typically more worth then dictionery .\n",
        "\n",
        "\n",
        "19. Why are dictionaries considered unordered, and how does that affect data retrieval ?\n",
        "   -  howere earlier dictionery could not be accessed but after 3.7 update , dictionery can be accesed.  dictionery are considred unorderd beacuse elements inside dictionaries are not assigned index while getting stored in memory instead dictionaries contain key:value pairs therefor all values are accessed by these keys . effect = whenver retrinving data it can not be retrived by index (no doubt its an easy way ) . however there is an no possible way to access values of any keys dicrectly beacuse of this unodrered format  . neither data can not be altred while retriving  . these are some cons of unordred format .\n",
        "\n",
        "\n",
        "20. Explain the difference between a list and a dictionary in terms of data retrieval ?\n",
        "   - list = because list are ordered collection of elements there for data can be retrived by indesx . modefication can also be done by index like - replace any value , remove something . IN list all elements are asigned indexes while declration which makes it easier to acess .\n",
        "   - dictionery = because dictionery are stored in key:value pair therfor data can not be retrived by indexs , here keys comes in light  offen used to access or perform modification over elements . this way to acess make it substancially diffrent then other data like list ..\n",
        "\n",
        "\n",
        "   "
      ],
      "metadata": {
        "id": "HbioO99wpkbx"
      }
    },
    {
      "cell_type": "markdown",
      "source": [
        "## practical qustion\n"
      ],
      "metadata": {
        "id": "-o64Tp4NyVaS"
      }
    },
    {
      "cell_type": "code",
      "source": [
        " # 1. Write a code to create a string with your name and print it ?\n",
        "name =\"parveen\"\n",
        "print(name)"
      ],
      "metadata": {
        "colab": {
          "base_uri": "https://localhost:8080/"
        },
        "id": "Ik1xnNe_yZDC",
        "outputId": "6bb00124-48cd-4535-94a0-40da0df130c6"
      },
      "execution_count": 1,
      "outputs": [
        {
          "output_type": "stream",
          "name": "stdout",
          "text": [
            "parveen\n"
          ]
        }
      ]
    },
    {
      "cell_type": "code",
      "source": [
        "# 2. Write a code to find the length of the string \"Hello World\" ?\n",
        "a =\"hello world\"\n",
        "b =len(a)\n",
        "print(b)"
      ],
      "metadata": {
        "colab": {
          "base_uri": "https://localhost:8080/"
        },
        "id": "YtxMwVeAykxf",
        "outputId": "b87fdc12-b6c5-48cd-b7c1-088ca938aaa8"
      },
      "execution_count": 5,
      "outputs": [
        {
          "output_type": "stream",
          "name": "stdout",
          "text": [
            "11\n"
          ]
        }
      ]
    },
    {
      "cell_type": "code",
      "source": [
        "# 3. Write a code to slice the first 3 characters from the string \"Python Programming\" ?\n",
        "r =\"Python Programming\"\n",
        "r[0:4]"
      ],
      "metadata": {
        "colab": {
          "base_uri": "https://localhost:8080/",
          "height": 36
        },
        "id": "av8z-_T1y1_H",
        "outputId": "0fd5fa9c-3398-4ce2-b857-cb98eacf81da"
      },
      "execution_count": 3,
      "outputs": [
        {
          "output_type": "execute_result",
          "data": {
            "text/plain": [
              "'Pyth'"
            ],
            "application/vnd.google.colaboratory.intrinsic+json": {
              "type": "string"
            }
          },
          "metadata": {},
          "execution_count": 3
        }
      ]
    },
    {
      "cell_type": "code",
      "source": [
        "# 4. Write a code to convert the string \"hello\" to uppercase ?\n",
        "s =\"hello\"\n",
        "s1 =s.upper()\n",
        "print(s1)"
      ],
      "metadata": {
        "colab": {
          "base_uri": "https://localhost:8080/"
        },
        "id": "DYQiWE2ezDLf",
        "outputId": "9d638e88-8d4d-4e55-9b23-368dc9a0ac7c"
      },
      "execution_count": 6,
      "outputs": [
        {
          "output_type": "stream",
          "name": "stdout",
          "text": [
            "HELLO\n"
          ]
        }
      ]
    },
    {
      "cell_type": "code",
      "source": [
        "# 5. Write a code to replace the word \"apple\" with \"orange\" in the string \"I like apple\" ?\n",
        "n =\"i like apple\"\n",
        "n1= n.replace(\"apple\",\"orange\")\n",
        "print(n1)"
      ],
      "metadata": {
        "colab": {
          "base_uri": "https://localhost:8080/"
        },
        "id": "OKUkvWWwzWhl",
        "outputId": "f7623e7f-66ed-4273-9a1f-0c6e727416df"
      },
      "execution_count": 9,
      "outputs": [
        {
          "output_type": "stream",
          "name": "stdout",
          "text": [
            "i like orange\n"
          ]
        }
      ]
    },
    {
      "cell_type": "code",
      "source": [
        "# 6. Write a code to create a list with numbers 1 to 5 and print it ?\n",
        "list1 =[1,2,3,4,5]\n",
        "print(list1)"
      ],
      "metadata": {
        "colab": {
          "base_uri": "https://localhost:8080/"
        },
        "id": "H7_UenK60A0c",
        "outputId": "223c4c93-6032-4b50-9296-6579ac176cfb"
      },
      "execution_count": 12,
      "outputs": [
        {
          "output_type": "stream",
          "name": "stdout",
          "text": [
            "[1, 2, 3, 4, 5]\n"
          ]
        }
      ]
    },
    {
      "cell_type": "code",
      "source": [
        "#7. Write a code to append the number 10 to the list [1, 2, 3, 4] ?\n",
        "l =[1, 2, 3, 4]\n",
        "l.append(10)\n",
        "print(l)"
      ],
      "metadata": {
        "colab": {
          "base_uri": "https://localhost:8080/"
        },
        "id": "IWaGEb9d0SkP",
        "outputId": "312b3017-340a-4cb7-c886-837a32fb0ec7"
      },
      "execution_count": 14,
      "outputs": [
        {
          "output_type": "stream",
          "name": "stdout",
          "text": [
            "[1, 2, 3, 4, 10]\n"
          ]
        }
      ]
    },
    {
      "cell_type": "code",
      "source": [
        "#8. Write a code to remove the number 3 from the list [1, 2, 3, 4, 5] ?\n",
        "s = [1, 2, 3, 4, 5]\n",
        "s.remove(3)\n",
        "print(s)"
      ],
      "metadata": {
        "colab": {
          "base_uri": "https://localhost:8080/"
        },
        "id": "yPtPmFwM02JR",
        "outputId": "ee962e3c-78e0-470a-db6a-33f2bcad2378"
      },
      "execution_count": 20,
      "outputs": [
        {
          "output_type": "stream",
          "name": "stdout",
          "text": [
            "[1, 2, 4, 5]\n"
          ]
        }
      ]
    },
    {
      "cell_type": "code",
      "source": [
        "#9. Write a code to access the second element in the list ['a', 'b', 'c', 'd'] ?\n",
        "s1 =['a', 'b', 'c', 'd']\n",
        "s1 [2]"
      ],
      "metadata": {
        "colab": {
          "base_uri": "https://localhost:8080/",
          "height": 36
        },
        "id": "6NIAJvCa1fTf",
        "outputId": "d154974e-0c4e-49af-f496-ac6e4ae0cefd"
      },
      "execution_count": 23,
      "outputs": [
        {
          "output_type": "execute_result",
          "data": {
            "text/plain": [
              "'c'"
            ],
            "application/vnd.google.colaboratory.intrinsic+json": {
              "type": "string"
            }
          },
          "metadata": {},
          "execution_count": 23
        }
      ]
    },
    {
      "cell_type": "code",
      "source": [
        "# 10.  Write a code to reverse the list [10, 20, 30, 40, 50] ?\n",
        "list1 =[10, 20, 30, 40, 50]\n",
        "list_revrese = list1[::-1]\n",
        "print(list_revrese)"
      ],
      "metadata": {
        "colab": {
          "base_uri": "https://localhost:8080/"
        },
        "id": "4D31Tume2axp",
        "outputId": "3553eefe-ae10-461b-f6df-ccb8fc7793ed"
      },
      "execution_count": 25,
      "outputs": [
        {
          "output_type": "stream",
          "name": "stdout",
          "text": [
            "[50, 40, 30, 20, 10]\n"
          ]
        }
      ]
    },
    {
      "cell_type": "code",
      "source": [
        "#11. Write a code to create a tuple with the elements 10, 20, 30 and print it ?\n",
        "tuple1 = (10,20,30)\n",
        "print(tuple1)\n",
        "print(type(tuple1))"
      ],
      "metadata": {
        "colab": {
          "base_uri": "https://localhost:8080/"
        },
        "id": "oJPjHhBu2-D9",
        "outputId": "84d43241-d5c0-44ba-a2f7-4dec47da21cf"
      },
      "execution_count": 27,
      "outputs": [
        {
          "output_type": "stream",
          "name": "stdout",
          "text": [
            "(10, 20, 30)\n",
            "<class 'tuple'>\n"
          ]
        }
      ]
    },
    {
      "cell_type": "code",
      "source": [
        "# 12. Write a code to access the first element of the tuple ('apple', 'banana', 'cherry') ?\n",
        "fruits =(\"apple\",\"banana\",\"cherry\")\n",
        "fruits [0]"
      ],
      "metadata": {
        "colab": {
          "base_uri": "https://localhost:8080/",
          "height": 36
        },
        "id": "Jh9xQ8I93lM1",
        "outputId": "fa94244a-f2ff-4d07-9fd6-38f28ae6d35b"
      },
      "execution_count": 31,
      "outputs": [
        {
          "output_type": "execute_result",
          "data": {
            "text/plain": [
              "'apple'"
            ],
            "application/vnd.google.colaboratory.intrinsic+json": {
              "type": "string"
            }
          },
          "metadata": {},
          "execution_count": 31
        }
      ]
    },
    {
      "cell_type": "code",
      "source": [
        "# 13. Write a code to count how many times the number 2 appears in the tuple (1, 2, 3, 2, 4, 2) ?\n",
        "num =(1,2,3,2,4,2)\n",
        "num.count(2)"
      ],
      "metadata": {
        "colab": {
          "base_uri": "https://localhost:8080/"
        },
        "id": "VJEpNg3M4cA0",
        "outputId": "b423f01e-1d4e-4393-a4cf-22167d8e9ef9"
      },
      "execution_count": 32,
      "outputs": [
        {
          "output_type": "execute_result",
          "data": {
            "text/plain": [
              "3"
            ]
          },
          "metadata": {},
          "execution_count": 32
        }
      ]
    },
    {
      "cell_type": "code",
      "source": [
        "# 14. Write a code to find the index of the element \"cat\" in the tuple ('dog', 'cat', 'rabbit') ?\n",
        "pets =('dog','cat','rabbit')\n",
        "pets.index('cat')"
      ],
      "metadata": {
        "colab": {
          "base_uri": "https://localhost:8080/"
        },
        "id": "gt455ztD48q6",
        "outputId": "a2ba1171-7ae8-4525-eaab-109df58fd959"
      },
      "execution_count": 33,
      "outputs": [
        {
          "output_type": "execute_result",
          "data": {
            "text/plain": [
              "1"
            ]
          },
          "metadata": {},
          "execution_count": 33
        }
      ]
    },
    {
      "cell_type": "code",
      "source": [
        "# 15.  Write a code to check if the element \"banana\" is in the tuple ('apple', 'orange', 'banana') ?\n",
        "fruits =('apple',\"orange\",'banana')\n",
        "'banana' in fruits"
      ],
      "metadata": {
        "colab": {
          "base_uri": "https://localhost:8080/"
        },
        "id": "Q6HLnDda51jx",
        "outputId": "b66e9715-4ac4-47b3-b81b-8e2cf8adb516"
      },
      "execution_count": 34,
      "outputs": [
        {
          "output_type": "execute_result",
          "data": {
            "text/plain": [
              "True"
            ]
          },
          "metadata": {},
          "execution_count": 34
        }
      ]
    },
    {
      "cell_type": "code",
      "source": [
        "# 16. Write a code to create a set with the elements 1, 2, 3, 4, 5 and print it ?\n",
        "set1 ={1,2,3,4,5,6}\n",
        "print(type(set1))\n",
        "print(set1)"
      ],
      "metadata": {
        "colab": {
          "base_uri": "https://localhost:8080/"
        },
        "id": "04um62fP6TX6",
        "outputId": "f5d43f38-ab7a-4116-91a9-4916c0a23750"
      },
      "execution_count": 36,
      "outputs": [
        {
          "output_type": "stream",
          "name": "stdout",
          "text": [
            "<class 'set'>\n",
            "{1, 2, 3, 4, 5, 6}\n"
          ]
        }
      ]
    },
    {
      "cell_type": "code",
      "source": [
        "# 17. Write a code to add the element 6 to the set {1, 2, 3, 4} ?\n",
        "set2 ={1,2,3,4}\n",
        "set2.add(6)\n",
        "print(set2)"
      ],
      "metadata": {
        "colab": {
          "base_uri": "https://localhost:8080/"
        },
        "id": "iCuQnrNt6cFH",
        "outputId": "1b518097-ab64-42b0-fb7f-ce1b31781263"
      },
      "execution_count": 38,
      "outputs": [
        {
          "output_type": "stream",
          "name": "stdout",
          "text": [
            "{1, 2, 3, 4, 6}\n"
          ]
        }
      ]
    },
    {
      "cell_type": "code",
      "source": [
        "# 18. Write a code to create a tuple with the elements 10, 20, 30 and print it ?\n",
        "tuple1 = (10,20,30)\n",
        "print(tuple1)\n",
        "print(type(tuple1))"
      ],
      "metadata": {
        "id": "guZhys5Q7RCe"
      },
      "execution_count": null,
      "outputs": []
    },
    {
      "cell_type": "code",
      "source": [
        "# 19.  Write a code to access the first element of the tuple ('apple', 'banana', 'cherry') ?\n",
        "fruits =(\"apple\",\"banana\",\"cherry\")\n",
        "fruits [0]"
      ],
      "metadata": {
        "colab": {
          "base_uri": "https://localhost:8080/",
          "height": 36
        },
        "id": "1Ap75BDZ7eE-",
        "outputId": "a0feea3b-c62a-4c36-bcd9-1811c3f6378a"
      },
      "execution_count": 39,
      "outputs": [
        {
          "output_type": "execute_result",
          "data": {
            "text/plain": [
              "'apple'"
            ],
            "application/vnd.google.colaboratory.intrinsic+json": {
              "type": "string"
            }
          },
          "metadata": {},
          "execution_count": 39
        }
      ]
    },
    {
      "cell_type": "code",
      "source": [
        "#20 .  Write a code to count how many times the number 2 appears in the tuple (1, 2, 3, 2, 4, 2) ?\n",
        "num =(1,2,3,2,4,2)\n",
        "num.count(2)"
      ],
      "metadata": {
        "colab": {
          "base_uri": "https://localhost:8080/"
        },
        "id": "3nWUBzsK7nvO",
        "outputId": "5782fc7d-5258-4a03-bb48-731b9012736d"
      },
      "execution_count": 40,
      "outputs": [
        {
          "output_type": "execute_result",
          "data": {
            "text/plain": [
              "3"
            ]
          },
          "metadata": {},
          "execution_count": 40
        }
      ]
    },
    {
      "cell_type": "code",
      "source": [
        "# 21.  Write a code to find the index of the element \"cat\" in the tuple ('dog', 'cat', 'rabbit') ?\n",
        "pets =('dog','cat','rabbit')\n",
        "pets.index('cat')"
      ],
      "metadata": {
        "colab": {
          "base_uri": "https://localhost:8080/"
        },
        "id": "j5evhm1v7xi8",
        "outputId": "7b45de0f-9d2a-45a0-96cf-e969097b0674"
      },
      "execution_count": 41,
      "outputs": [
        {
          "output_type": "execute_result",
          "data": {
            "text/plain": [
              "1"
            ]
          },
          "metadata": {},
          "execution_count": 41
        }
      ]
    },
    {
      "cell_type": "code",
      "source": [
        "# 22. Write a code to check if the element \"banana\" is in the tuple ('apple', 'orange', 'banana') ?\n",
        "fruits =('apple',\"orange\",'banana')\n",
        "'banana' in fruits"
      ],
      "metadata": {
        "colab": {
          "base_uri": "https://localhost:8080/"
        },
        "id": "0GpBalYv8KBf",
        "outputId": "dbfd0e89-84de-4c83-d958-b8e5873c073c"
      },
      "execution_count": 42,
      "outputs": [
        {
          "output_type": "execute_result",
          "data": {
            "text/plain": [
              "True"
            ]
          },
          "metadata": {},
          "execution_count": 42
        }
      ]
    },
    {
      "cell_type": "code",
      "source": [
        "# 23.  Write a code to create a set with the elements 1, 2, 3, 4, 5 and print it ?\n",
        "set1 ={1,2,3,4,5,6}\n",
        "print(type(set1))\n",
        "print(set1)"
      ],
      "metadata": {
        "colab": {
          "base_uri": "https://localhost:8080/"
        },
        "id": "GyK-d_AW8QnC",
        "outputId": "50d0d685-b976-42c1-8dd6-64955bf9adce"
      },
      "execution_count": 43,
      "outputs": [
        {
          "output_type": "stream",
          "name": "stdout",
          "text": [
            "<class 'set'>\n",
            "{1, 2, 3, 4, 5, 6}\n"
          ]
        }
      ]
    },
    {
      "cell_type": "code",
      "source": [
        "#24. Write a code to add the element 6 to the set {1, 2, 3, 4} ?\n",
        "set2 ={1,2,3,4}\n",
        "set2.add(6)\n",
        "print(set2)"
      ],
      "metadata": {
        "colab": {
          "base_uri": "https://localhost:8080/"
        },
        "id": "mgiWRS828qBj",
        "outputId": "c513e4cd-25f4-4a52-8983-b4c9b404f8c4"
      },
      "execution_count": 44,
      "outputs": [
        {
          "output_type": "stream",
          "name": "stdout",
          "text": [
            "{1, 2, 3, 4, 6}\n"
          ]
        }
      ]
    },
    {
      "cell_type": "code",
      "source": [],
      "metadata": {
        "id": "EYl3sieK8vT3"
      },
      "execution_count": null,
      "outputs": []
    }
  ]
}